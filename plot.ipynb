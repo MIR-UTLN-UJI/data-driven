{
 "cells": [
  {
   "cell_type": "code",
   "execution_count": null,
   "metadata": {},
   "outputs": [],
   "source": [
    "import matplotlib.pyplot as plt\n",
    "import numpy as np\n",
    "\n",
    "imgs_data = np.load(\"intensity_data.npy\")\n",
    "errors_arr = imgs_data[:,1].astype(np.float)\n",
    "mean_int_arr = imgs_data[:, 2].astype(np.float)\n",
    "plt.plot(mean_int_arr, errors_arr)"
   ]
  }
 ],
 "metadata": {
  "language_info": {
   "name": "python"
  },
  "orig_nbformat": 4
 },
 "nbformat": 4,
 "nbformat_minor": 2
}
